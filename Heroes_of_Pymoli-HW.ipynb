{
 "cells": [
  {
   "cell_type": "code",
   "execution_count": 227,
   "metadata": {},
   "outputs": [],
   "source": [
    "import pandas as pd\n",
    "import numpy as np\n",
    "import os\n",
    "import csv\n",
    "import statistics"
   ]
  },
  {
   "cell_type": "code",
   "execution_count": 228,
   "metadata": {},
   "outputs": [],
   "source": [
    "filepath = os.path.join(\"..\", \"purchase_data.csv\")\n"
   ]
  },
  {
   "cell_type": "code",
   "execution_count": 229,
   "metadata": {},
   "outputs": [],
   "source": [
    "#purchase_data = pd.read_csv(filepath, index_col=\"Purchase ID\", encoding=\"ISO-8859-1\") #main data frame; set index to Perchase ID.\n",
    "purchase_data = pd.read_csv(filepath, encoding=\"ISO-8859-1\") #main data frame; set index to Perchase ID."
   ]
  },
  {
   "cell_type": "code",
   "execution_count": 230,
   "metadata": {},
   "outputs": [
    {
     "name": "stdout",
     "output_type": "stream",
     "text": [
      "..\\purchase_data.csv\n"
     ]
    }
   ],
   "source": [
    "print(filepath)"
   ]
  },
  {
   "cell_type": "code",
   "execution_count": 231,
   "metadata": {},
   "outputs": [],
   "source": [
    "with open(filepath) as csvfile:\n",
    "    csvreader = csv.reader(filepath, delimiter=\",\")\n"
   ]
  },
  {
   "cell_type": "code",
   "execution_count": 232,
   "metadata": {},
   "outputs": [
    {
     "data": {
      "text/html": [
       "<div>\n",
       "<style scoped>\n",
       "    .dataframe tbody tr th:only-of-type {\n",
       "        vertical-align: middle;\n",
       "    }\n",
       "\n",
       "    .dataframe tbody tr th {\n",
       "        vertical-align: top;\n",
       "    }\n",
       "\n",
       "    .dataframe thead th {\n",
       "        text-align: right;\n",
       "    }\n",
       "</style>\n",
       "<table border=\"1\" class=\"dataframe\">\n",
       "  <thead>\n",
       "    <tr style=\"text-align: right;\">\n",
       "      <th></th>\n",
       "      <th>Purchase ID</th>\n",
       "      <th>SN</th>\n",
       "      <th>Age</th>\n",
       "      <th>Gender</th>\n",
       "      <th>Item ID</th>\n",
       "      <th>Item Name</th>\n",
       "      <th>Price</th>\n",
       "    </tr>\n",
       "  </thead>\n",
       "  <tbody>\n",
       "    <tr>\n",
       "      <td>0</td>\n",
       "      <td>0</td>\n",
       "      <td>Lisim78</td>\n",
       "      <td>20</td>\n",
       "      <td>Male</td>\n",
       "      <td>108</td>\n",
       "      <td>Extraction, Quickblade Of Trembling Hands</td>\n",
       "      <td>3.53</td>\n",
       "    </tr>\n",
       "    <tr>\n",
       "      <td>1</td>\n",
       "      <td>1</td>\n",
       "      <td>Lisovynya38</td>\n",
       "      <td>40</td>\n",
       "      <td>Male</td>\n",
       "      <td>143</td>\n",
       "      <td>Frenzied Scimitar</td>\n",
       "      <td>1.56</td>\n",
       "    </tr>\n",
       "    <tr>\n",
       "      <td>2</td>\n",
       "      <td>2</td>\n",
       "      <td>Ithergue48</td>\n",
       "      <td>24</td>\n",
       "      <td>Male</td>\n",
       "      <td>92</td>\n",
       "      <td>Final Critic</td>\n",
       "      <td>4.88</td>\n",
       "    </tr>\n",
       "    <tr>\n",
       "      <td>3</td>\n",
       "      <td>3</td>\n",
       "      <td>Chamassasya86</td>\n",
       "      <td>24</td>\n",
       "      <td>Male</td>\n",
       "      <td>100</td>\n",
       "      <td>Blindscythe</td>\n",
       "      <td>3.27</td>\n",
       "    </tr>\n",
       "    <tr>\n",
       "      <td>4</td>\n",
       "      <td>4</td>\n",
       "      <td>Iskosia90</td>\n",
       "      <td>23</td>\n",
       "      <td>Male</td>\n",
       "      <td>131</td>\n",
       "      <td>Fury</td>\n",
       "      <td>1.44</td>\n",
       "    </tr>\n",
       "  </tbody>\n",
       "</table>\n",
       "</div>"
      ],
      "text/plain": [
       "   Purchase ID             SN  Age Gender  Item ID  \\\n",
       "0            0        Lisim78   20   Male      108   \n",
       "1            1    Lisovynya38   40   Male      143   \n",
       "2            2     Ithergue48   24   Male       92   \n",
       "3            3  Chamassasya86   24   Male      100   \n",
       "4            4      Iskosia90   23   Male      131   \n",
       "\n",
       "                                   Item Name  Price  \n",
       "0  Extraction, Quickblade Of Trembling Hands   3.53  \n",
       "1                          Frenzied Scimitar   1.56  \n",
       "2                               Final Critic   4.88  \n",
       "3                                Blindscythe   3.27  \n",
       "4                                       Fury   1.44  "
      ]
     },
     "execution_count": 232,
     "metadata": {},
     "output_type": "execute_result"
    }
   ],
   "source": [
    "purchase_data.head() #viewing contents of file"
   ]
  },
  {
   "cell_type": "code",
   "execution_count": 233,
   "metadata": {},
   "outputs": [
    {
     "data": {
      "text/html": [
       "<div>\n",
       "<style scoped>\n",
       "    .dataframe tbody tr th:only-of-type {\n",
       "        vertical-align: middle;\n",
       "    }\n",
       "\n",
       "    .dataframe tbody tr th {\n",
       "        vertical-align: top;\n",
       "    }\n",
       "\n",
       "    .dataframe thead th {\n",
       "        text-align: right;\n",
       "    }\n",
       "</style>\n",
       "<table border=\"1\" class=\"dataframe\">\n",
       "  <thead>\n",
       "    <tr style=\"text-align: right;\">\n",
       "      <th></th>\n",
       "      <th>Purchase ID</th>\n",
       "      <th>Age</th>\n",
       "      <th>Item ID</th>\n",
       "      <th>Price</th>\n",
       "    </tr>\n",
       "  </thead>\n",
       "  <tbody>\n",
       "    <tr>\n",
       "      <td>count</td>\n",
       "      <td>780.000000</td>\n",
       "      <td>780.000000</td>\n",
       "      <td>780.000000</td>\n",
       "      <td>780.000000</td>\n",
       "    </tr>\n",
       "    <tr>\n",
       "      <td>mean</td>\n",
       "      <td>389.500000</td>\n",
       "      <td>22.714103</td>\n",
       "      <td>92.114103</td>\n",
       "      <td>3.050987</td>\n",
       "    </tr>\n",
       "    <tr>\n",
       "      <td>std</td>\n",
       "      <td>225.310896</td>\n",
       "      <td>6.659444</td>\n",
       "      <td>52.775943</td>\n",
       "      <td>1.169549</td>\n",
       "    </tr>\n",
       "    <tr>\n",
       "      <td>min</td>\n",
       "      <td>0.000000</td>\n",
       "      <td>7.000000</td>\n",
       "      <td>0.000000</td>\n",
       "      <td>1.000000</td>\n",
       "    </tr>\n",
       "    <tr>\n",
       "      <td>25%</td>\n",
       "      <td>194.750000</td>\n",
       "      <td>20.000000</td>\n",
       "      <td>48.000000</td>\n",
       "      <td>1.980000</td>\n",
       "    </tr>\n",
       "    <tr>\n",
       "      <td>50%</td>\n",
       "      <td>389.500000</td>\n",
       "      <td>22.000000</td>\n",
       "      <td>93.000000</td>\n",
       "      <td>3.150000</td>\n",
       "    </tr>\n",
       "    <tr>\n",
       "      <td>75%</td>\n",
       "      <td>584.250000</td>\n",
       "      <td>25.000000</td>\n",
       "      <td>139.000000</td>\n",
       "      <td>4.080000</td>\n",
       "    </tr>\n",
       "    <tr>\n",
       "      <td>max</td>\n",
       "      <td>779.000000</td>\n",
       "      <td>45.000000</td>\n",
       "      <td>183.000000</td>\n",
       "      <td>4.990000</td>\n",
       "    </tr>\n",
       "  </tbody>\n",
       "</table>\n",
       "</div>"
      ],
      "text/plain": [
       "       Purchase ID         Age     Item ID       Price\n",
       "count   780.000000  780.000000  780.000000  780.000000\n",
       "mean    389.500000   22.714103   92.114103    3.050987\n",
       "std     225.310896    6.659444   52.775943    1.169549\n",
       "min       0.000000    7.000000    0.000000    1.000000\n",
       "25%     194.750000   20.000000   48.000000    1.980000\n",
       "50%     389.500000   22.000000   93.000000    3.150000\n",
       "75%     584.250000   25.000000  139.000000    4.080000\n",
       "max     779.000000   45.000000  183.000000    4.990000"
      ]
     },
     "execution_count": 233,
     "metadata": {},
     "output_type": "execute_result"
    }
   ],
   "source": [
    "purchase_data.describe() #view statistical data of file contents\n"
   ]
  },
  {
   "cell_type": "code",
   "execution_count": 234,
   "metadata": {},
   "outputs": [
    {
     "name": "stdout",
     "output_type": "stream",
     "text": [
      "Purchase ID    780\n",
      "SN             780\n",
      "Age            780\n",
      "Gender         780\n",
      "Item ID        780\n",
      "Item Name      780\n",
      "Price          780\n",
      "dtype: int64\n"
     ]
    }
   ],
   "source": [
    "print(purchase_data.count()) #identifying count of filled cells and count of empty cells\n"
   ]
  },
  {
   "cell_type": "code",
   "execution_count": 235,
   "metadata": {},
   "outputs": [
    {
     "data": {
      "text/html": [
       "<div>\n",
       "<style scoped>\n",
       "    .dataframe tbody tr th:only-of-type {\n",
       "        vertical-align: middle;\n",
       "    }\n",
       "\n",
       "    .dataframe tbody tr th {\n",
       "        vertical-align: top;\n",
       "    }\n",
       "\n",
       "    .dataframe thead th {\n",
       "        text-align: right;\n",
       "    }\n",
       "</style>\n",
       "<table border=\"1\" class=\"dataframe\">\n",
       "  <thead>\n",
       "    <tr style=\"text-align: right;\">\n",
       "      <th></th>\n",
       "      <th>Purchase ID</th>\n",
       "      <th>SN</th>\n",
       "      <th>Age</th>\n",
       "      <th>Gender</th>\n",
       "      <th>Item ID</th>\n",
       "      <th>Item Name</th>\n",
       "      <th>Price</th>\n",
       "    </tr>\n",
       "  </thead>\n",
       "  <tbody>\n",
       "    <tr>\n",
       "      <td>0</td>\n",
       "      <td>0</td>\n",
       "      <td>Lisim78</td>\n",
       "      <td>20</td>\n",
       "      <td>Male</td>\n",
       "      <td>108</td>\n",
       "      <td>Extraction, Quickblade Of Trembling Hands</td>\n",
       "      <td>3.53</td>\n",
       "    </tr>\n",
       "    <tr>\n",
       "      <td>1</td>\n",
       "      <td>1</td>\n",
       "      <td>Lisovynya38</td>\n",
       "      <td>40</td>\n",
       "      <td>Male</td>\n",
       "      <td>143</td>\n",
       "      <td>Frenzied Scimitar</td>\n",
       "      <td>1.56</td>\n",
       "    </tr>\n",
       "    <tr>\n",
       "      <td>2</td>\n",
       "      <td>2</td>\n",
       "      <td>Ithergue48</td>\n",
       "      <td>24</td>\n",
       "      <td>Male</td>\n",
       "      <td>92</td>\n",
       "      <td>Final Critic</td>\n",
       "      <td>4.88</td>\n",
       "    </tr>\n",
       "    <tr>\n",
       "      <td>3</td>\n",
       "      <td>3</td>\n",
       "      <td>Chamassasya86</td>\n",
       "      <td>24</td>\n",
       "      <td>Male</td>\n",
       "      <td>100</td>\n",
       "      <td>Blindscythe</td>\n",
       "      <td>3.27</td>\n",
       "    </tr>\n",
       "    <tr>\n",
       "      <td>4</td>\n",
       "      <td>4</td>\n",
       "      <td>Iskosia90</td>\n",
       "      <td>23</td>\n",
       "      <td>Male</td>\n",
       "      <td>131</td>\n",
       "      <td>Fury</td>\n",
       "      <td>1.44</td>\n",
       "    </tr>\n",
       "    <tr>\n",
       "      <td>...</td>\n",
       "      <td>...</td>\n",
       "      <td>...</td>\n",
       "      <td>...</td>\n",
       "      <td>...</td>\n",
       "      <td>...</td>\n",
       "      <td>...</td>\n",
       "      <td>...</td>\n",
       "    </tr>\n",
       "    <tr>\n",
       "      <td>775</td>\n",
       "      <td>775</td>\n",
       "      <td>Aethedru70</td>\n",
       "      <td>21</td>\n",
       "      <td>Female</td>\n",
       "      <td>60</td>\n",
       "      <td>Wolf</td>\n",
       "      <td>3.54</td>\n",
       "    </tr>\n",
       "    <tr>\n",
       "      <td>776</td>\n",
       "      <td>776</td>\n",
       "      <td>Iral74</td>\n",
       "      <td>21</td>\n",
       "      <td>Male</td>\n",
       "      <td>164</td>\n",
       "      <td>Exiled Doomblade</td>\n",
       "      <td>1.63</td>\n",
       "    </tr>\n",
       "    <tr>\n",
       "      <td>777</td>\n",
       "      <td>777</td>\n",
       "      <td>Yathecal72</td>\n",
       "      <td>20</td>\n",
       "      <td>Male</td>\n",
       "      <td>67</td>\n",
       "      <td>Celeste, Incarnation of the Corrupted</td>\n",
       "      <td>3.46</td>\n",
       "    </tr>\n",
       "    <tr>\n",
       "      <td>778</td>\n",
       "      <td>778</td>\n",
       "      <td>Sisur91</td>\n",
       "      <td>7</td>\n",
       "      <td>Male</td>\n",
       "      <td>101</td>\n",
       "      <td>Final Critic</td>\n",
       "      <td>4.19</td>\n",
       "    </tr>\n",
       "    <tr>\n",
       "      <td>779</td>\n",
       "      <td>779</td>\n",
       "      <td>Ennrian78</td>\n",
       "      <td>24</td>\n",
       "      <td>Male</td>\n",
       "      <td>50</td>\n",
       "      <td>Dawn</td>\n",
       "      <td>4.60</td>\n",
       "    </tr>\n",
       "  </tbody>\n",
       "</table>\n",
       "<p>780 rows × 7 columns</p>\n",
       "</div>"
      ],
      "text/plain": [
       "     Purchase ID             SN  Age  Gender  Item ID  \\\n",
       "0              0        Lisim78   20    Male      108   \n",
       "1              1    Lisovynya38   40    Male      143   \n",
       "2              2     Ithergue48   24    Male       92   \n",
       "3              3  Chamassasya86   24    Male      100   \n",
       "4              4      Iskosia90   23    Male      131   \n",
       "..           ...            ...  ...     ...      ...   \n",
       "775          775     Aethedru70   21  Female       60   \n",
       "776          776         Iral74   21    Male      164   \n",
       "777          777     Yathecal72   20    Male       67   \n",
       "778          778        Sisur91    7    Male      101   \n",
       "779          779      Ennrian78   24    Male       50   \n",
       "\n",
       "                                     Item Name  Price  \n",
       "0    Extraction, Quickblade Of Trembling Hands   3.53  \n",
       "1                            Frenzied Scimitar   1.56  \n",
       "2                                 Final Critic   4.88  \n",
       "3                                  Blindscythe   3.27  \n",
       "4                                         Fury   1.44  \n",
       "..                                         ...    ...  \n",
       "775                                       Wolf   3.54  \n",
       "776                           Exiled Doomblade   1.63  \n",
       "777      Celeste, Incarnation of the Corrupted   3.46  \n",
       "778                               Final Critic   4.19  \n",
       "779                                       Dawn   4.60  \n",
       "\n",
       "[780 rows x 7 columns]"
      ]
     },
     "execution_count": 235,
     "metadata": {},
     "output_type": "execute_result"
    }
   ],
   "source": [
    "purchase_data_df = pd.DataFrame(purchase_data) #formalizing data frame vs main data frame\n",
    "purchase_data_df #displaying data frame"
   ]
  },
  {
   "cell_type": "code",
   "execution_count": 236,
   "metadata": {},
   "outputs": [],
   "source": [
    "#setting variables to zero\n",
    "total_gender = 0\n",
    "total_num_other = 0\n",
    "total_num_males = 0\n",
    "total_num_females = 0\n",
    "item_name_price_average = 0\n",
    "total_purchases = 0\n",
    "unique_item_count = 0\n",
    "percent_male_players = 0\n",
    "percent_female_players = 0\n",
    "percent_other_players = 0"
   ]
  },
  {
   "cell_type": "code",
   "execution_count": null,
   "metadata": {},
   "outputs": [],
   "source": [
    "#identifying basic group statistics"
   ]
  },
  {
   "cell_type": "code",
   "execution_count": 237,
   "metadata": {},
   "outputs": [
    {
     "name": "stdout",
     "output_type": "stream",
     "text": [
      "780\n"
     ]
    }
   ],
   "source": [
    "total_purchases = purchase_data_df[\"Purchase ID\"].count() #total number of purchases\n",
    "print(total_purchases)"
   ]
  },
  {
   "cell_type": "code",
   "execution_count": 238,
   "metadata": {},
   "outputs": [
    {
     "name": "stdout",
     "output_type": "stream",
     "text": [
      "2379.77\n"
     ]
    }
   ],
   "source": [
    "total_revenue = purchase_data_df[\"Price\"].sum()\n",
    "print(total_revenue)"
   ]
  },
  {
   "cell_type": "code",
   "execution_count": 239,
   "metadata": {},
   "outputs": [
    {
     "name": "stdout",
     "output_type": "stream",
     "text": [
      "179\n"
     ]
    }
   ],
   "source": [
    "unique_item_count = len(purchase_data[\"Item Name\"].unique())\n",
    "print (unique_item_count)\n",
    "#print (purchase_data[\"Item Name\"].unique())"
   ]
  },
  {
   "cell_type": "code",
   "execution_count": 240,
   "metadata": {
    "scrolled": true
   },
   "outputs": [
    {
     "name": "stdout",
     "output_type": "stream",
     "text": [
      "3.050987179487176\n"
     ]
    }
   ],
   "source": [
    "item_name_price_average = purchase_data_df.Price.mean()\n",
    "print(item_name_price_average)"
   ]
  },
  {
   "cell_type": "code",
   "execution_count": null,
   "metadata": {},
   "outputs": [],
   "source": [
    "#Breaking down the Gender statistics"
   ]
  },
  {
   "cell_type": "code",
   "execution_count": 241,
   "metadata": {},
   "outputs": [
    {
     "data": {
      "text/plain": [
       "Male                     652\n",
       "Female                   113\n",
       "Other / Non-Disclosed     15\n",
       "Name: Gender, dtype: int64"
      ]
     },
     "execution_count": 241,
     "metadata": {},
     "output_type": "execute_result"
    }
   ],
   "source": [
    "purchase_data_df[\"Gender\"].value_counts() #count of Gender column"
   ]
  },
  {
   "cell_type": "code",
   "execution_count": 242,
   "metadata": {},
   "outputs": [
    {
     "name": "stdout",
     "output_type": "stream",
     "text": [
      "780\n"
     ]
    }
   ],
   "source": [
    "total_purchases = (purchase_data_df[\"Gender\"]).count() #total number of purchases\n",
    "print(total_purchases)"
   ]
  },
  {
   "cell_type": "code",
   "execution_count": 243,
   "metadata": {},
   "outputs": [
    {
     "name": "stdout",
     "output_type": "stream",
     "text": [
      "780\n"
     ]
    }
   ],
   "source": [
    "total_gender = (purchase_data_df[\"Gender\"]).count()\n",
    "print(total_gender)"
   ]
  },
  {
   "cell_type": "code",
   "execution_count": 244,
   "metadata": {},
   "outputs": [
    {
     "name": "stdout",
     "output_type": "stream",
     "text": [
      "652\n",
      "128\n"
     ]
    }
   ],
   "source": [
    "gender_male = (purchase_data_df[\"Gender\"] == \"Male\")\n",
    "total_num_males = purchase_data_df.loc[gender_male, \"Gender\"].count()\n",
    "total_num_other = total_gender - total_num_males\n",
    "print(total_num_males)\n",
    "print(total_num_other)"
   ]
  },
  {
   "cell_type": "code",
   "execution_count": 269,
   "metadata": {},
   "outputs": [
    {
     "name": "stdout",
     "output_type": "stream",
     "text": [
      "0      Male\n",
      "1      Male\n",
      "2      Male\n",
      "3      Male\n",
      "4      Male\n",
      "       ... \n",
      "774    Male\n",
      "776    Male\n",
      "777    Male\n",
      "778    Male\n",
      "779    Male\n",
      "Name: Gender, Length: 652, dtype: object\n"
     ]
    }
   ],
   "source": [
    "gender_male = (purchase_data_df[\"Gender\"] == \"Male\")\n",
    "total_males = purchase_data_df.loc[gender_male, \"Gender\"]\n",
    "print(total_males)"
   ]
  },
  {
   "cell_type": "code",
   "execution_count": 246,
   "metadata": {},
   "outputs": [
    {
     "name": "stdout",
     "output_type": "stream",
     "text": [
      "               count      mean   min   max\n",
      "SN                                        \n",
      "Adairialis76       1  2.280000  2.28  2.28\n",
      "Adastirin33        1  4.480000  4.48  4.48\n",
      "Aeda94             1  4.910000  4.91  4.91\n",
      "Aela59             1  4.320000  4.32  4.32\n",
      "Aelaria33          1  1.790000  1.79  1.79\n",
      "...              ...       ...   ...   ...\n",
      "Yathecal82         3  2.073333  1.87  2.42\n",
      "Yathedeu43         2  3.010000  2.27  3.75\n",
      "Yoishirrala98      1  4.580000  4.58  4.58\n",
      "Zhisrisu83         2  3.945000  3.54  4.35\n",
      "Zontibe81          3  2.676667  1.76  3.79\n",
      "\n",
      "[576 rows x 4 columns]\n"
     ]
    }
   ],
   "source": [
    "male_persons = purchase_data.groupby(\"SN\").Price.agg([\"count\", \"mean\", \"min\", \"max\"])\n",
    "sorted(male_persons)\n",
    "print(male_persons)"
   ]
  },
  {
   "cell_type": "code",
   "execution_count": 247,
   "metadata": {},
   "outputs": [
    {
     "name": "stdout",
     "output_type": "stream",
     "text": [
      "15     Female\n",
      "18     Female\n",
      "38     Female\n",
      "41     Female\n",
      "55     Female\n",
      "        ...  \n",
      "731    Female\n",
      "740    Female\n",
      "754    Female\n",
      "767    Female\n",
      "775    Female\n",
      "Name: Gender, Length: 113, dtype: object\n"
     ]
    }
   ],
   "source": [
    "gender_females = (purchase_data_df[\"Gender\"] == \"Female\")\n",
    "total_females = purchase_data_df.loc[gender_females, \"Gender\"]\n",
    "print(total_females)"
   ]
  },
  {
   "cell_type": "code",
   "execution_count": 248,
   "metadata": {},
   "outputs": [
    {
     "name": "stdout",
     "output_type": "stream",
     "text": [
      "               count      mean   min   max\n",
      "SN                                        \n",
      "Adairialis76       1  2.280000  2.28  2.28\n",
      "Adastirin33        1  4.480000  4.48  4.48\n",
      "Aeda94             1  4.910000  4.91  4.91\n",
      "Aela59             1  4.320000  4.32  4.32\n",
      "Aelaria33          1  1.790000  1.79  1.79\n",
      "...              ...       ...   ...   ...\n",
      "Yathecal82         3  2.073333  1.87  2.42\n",
      "Yathedeu43         2  3.010000  2.27  3.75\n",
      "Yoishirrala98      1  4.580000  4.58  4.58\n",
      "Zhisrisu83         2  3.945000  3.54  4.35\n",
      "Zontibe81          3  2.676667  1.76  3.79\n",
      "\n",
      "[576 rows x 4 columns]\n"
     ]
    }
   ],
   "source": [
    "female_persons = purchase_data.groupby(\"SN\").Price.agg([\"count\", \"mean\", \"min\", \"max\"])\n",
    "sorted(female_persons)\n",
    "print(female_persons)"
   ]
  },
  {
   "cell_type": "code",
   "execution_count": 249,
   "metadata": {},
   "outputs": [
    {
     "name": "stdout",
     "output_type": "stream",
     "text": [
      "15\n",
      "9      Other / Non-Disclosed\n",
      "22     Other / Non-Disclosed\n",
      "82     Other / Non-Disclosed\n",
      "111    Other / Non-Disclosed\n",
      "228    Other / Non-Disclosed\n",
      "237    Other / Non-Disclosed\n",
      "242    Other / Non-Disclosed\n",
      "291    Other / Non-Disclosed\n",
      "350    Other / Non-Disclosed\n",
      "401    Other / Non-Disclosed\n",
      "484    Other / Non-Disclosed\n",
      "549    Other / Non-Disclosed\n",
      "629    Other / Non-Disclosed\n",
      "637    Other / Non-Disclosed\n",
      "747    Other / Non-Disclosed\n",
      "Name: Gender, dtype: object\n"
     ]
    }
   ],
   "source": [
    "other_persons = (purchase_data_df[\"Gender\"] == \"Other / Non-Disclosed\")\n",
    "total_others = purchase_data_df.loc[other_persons, \"Gender\"]\n",
    "print(total_others.count())\n",
    "print(total_others)"
   ]
  },
  {
   "cell_type": "code",
   "execution_count": 250,
   "metadata": {},
   "outputs": [
    {
     "name": "stdout",
     "output_type": "stream",
     "text": [
      "               count      mean   min   max\n",
      "SN                                        \n",
      "Adairialis76       1  2.280000  2.28  2.28\n",
      "Adastirin33        1  4.480000  4.48  4.48\n",
      "Aeda94             1  4.910000  4.91  4.91\n",
      "Aela59             1  4.320000  4.32  4.32\n",
      "Aelaria33          1  1.790000  1.79  1.79\n",
      "...              ...       ...   ...   ...\n",
      "Yathecal82         3  2.073333  1.87  2.42\n",
      "Yathedeu43         2  3.010000  2.27  3.75\n",
      "Yoishirrala98      1  4.580000  4.58  4.58\n",
      "Zhisrisu83         2  3.945000  3.54  4.35\n",
      "Zontibe81          3  2.676667  1.76  3.79\n",
      "\n",
      "[576 rows x 4 columns]\n"
     ]
    }
   ],
   "source": [
    "other_persons = purchase_data.groupby(\"SN\").Price.agg([\"count\", \"mean\", \"min\", \"max\"])\n",
    "print(other_persons)"
   ]
  },
  {
   "cell_type": "code",
   "execution_count": null,
   "metadata": {},
   "outputs": [],
   "source": []
  },
  {
   "cell_type": "code",
   "execution_count": 251,
   "metadata": {},
   "outputs": [
    {
     "name": "stdout",
     "output_type": "stream",
     "text": [
      "113\n",
      "15\n"
     ]
    }
   ],
   "source": [
    "gender_female = (purchase_data_df[\"Gender\"] == \"Female\")\n",
    "total_num_females = purchase_data_df.loc[gender_female, \"Gender\"].count()\n",
    "total_num_females\n",
    "total_num_other = total_num_other - total_num_females\n",
    "print(total_num_females)\n",
    "print(total_num_other)"
   ]
  },
  {
   "cell_type": "code",
   "execution_count": 252,
   "metadata": {},
   "outputs": [
    {
     "name": "stdout",
     "output_type": "stream",
     "text": [
      "83.58974358974359\n",
      "14.487179487179489\n",
      "1.9230769230769231\n"
     ]
    }
   ],
   "source": [
    "percent_male_players = float(total_num_males / total_gender) * 100\n",
    "percent_female_players = float(total_num_females / total_gender) * 100\n",
    "percent_other_players = float(total_num_other / total_gender) * 100\n",
    "print(percent_male_players)\n",
    "print(percent_female_players)\n",
    "print(percent_other_players)"
   ]
  },
  {
   "cell_type": "code",
   "execution_count": 253,
   "metadata": {},
   "outputs": [],
   "source": [
    "#%matplotlib inline"
   ]
  },
  {
   "cell_type": "code",
   "execution_count": 254,
   "metadata": {},
   "outputs": [],
   "source": [
    "#purchase_data.groupby(\"SN\").Price.mean().plot(kind=\"bar\")\n"
   ]
  },
  {
   "cell_type": "code",
   "execution_count": null,
   "metadata": {},
   "outputs": [],
   "source": []
  },
  {
   "cell_type": "code",
   "execution_count": 255,
   "metadata": {},
   "outputs": [
    {
     "data": {
      "text/html": [
       "<div>\n",
       "<style scoped>\n",
       "    .dataframe tbody tr th:only-of-type {\n",
       "        vertical-align: middle;\n",
       "    }\n",
       "\n",
       "    .dataframe tbody tr th {\n",
       "        vertical-align: top;\n",
       "    }\n",
       "\n",
       "    .dataframe thead th {\n",
       "        text-align: right;\n",
       "    }\n",
       "</style>\n",
       "<table border=\"1\" class=\"dataframe\">\n",
       "  <thead>\n",
       "    <tr style=\"text-align: right;\">\n",
       "      <th></th>\n",
       "      <th>count</th>\n",
       "      <th>mean</th>\n",
       "      <th>min</th>\n",
       "      <th>max</th>\n",
       "    </tr>\n",
       "    <tr>\n",
       "      <th>SN</th>\n",
       "      <th></th>\n",
       "      <th></th>\n",
       "      <th></th>\n",
       "      <th></th>\n",
       "    </tr>\n",
       "  </thead>\n",
       "  <tbody>\n",
       "    <tr>\n",
       "      <td>Adairialis76</td>\n",
       "      <td>1</td>\n",
       "      <td>2.280000</td>\n",
       "      <td>2.28</td>\n",
       "      <td>2.28</td>\n",
       "    </tr>\n",
       "    <tr>\n",
       "      <td>Adastirin33</td>\n",
       "      <td>1</td>\n",
       "      <td>4.480000</td>\n",
       "      <td>4.48</td>\n",
       "      <td>4.48</td>\n",
       "    </tr>\n",
       "    <tr>\n",
       "      <td>Aeda94</td>\n",
       "      <td>1</td>\n",
       "      <td>4.910000</td>\n",
       "      <td>4.91</td>\n",
       "      <td>4.91</td>\n",
       "    </tr>\n",
       "    <tr>\n",
       "      <td>Aela59</td>\n",
       "      <td>1</td>\n",
       "      <td>4.320000</td>\n",
       "      <td>4.32</td>\n",
       "      <td>4.32</td>\n",
       "    </tr>\n",
       "    <tr>\n",
       "      <td>Aelaria33</td>\n",
       "      <td>1</td>\n",
       "      <td>1.790000</td>\n",
       "      <td>1.79</td>\n",
       "      <td>1.79</td>\n",
       "    </tr>\n",
       "    <tr>\n",
       "      <td>...</td>\n",
       "      <td>...</td>\n",
       "      <td>...</td>\n",
       "      <td>...</td>\n",
       "      <td>...</td>\n",
       "    </tr>\n",
       "    <tr>\n",
       "      <td>Yathecal82</td>\n",
       "      <td>3</td>\n",
       "      <td>2.073333</td>\n",
       "      <td>1.87</td>\n",
       "      <td>2.42</td>\n",
       "    </tr>\n",
       "    <tr>\n",
       "      <td>Yathedeu43</td>\n",
       "      <td>2</td>\n",
       "      <td>3.010000</td>\n",
       "      <td>2.27</td>\n",
       "      <td>3.75</td>\n",
       "    </tr>\n",
       "    <tr>\n",
       "      <td>Yoishirrala98</td>\n",
       "      <td>1</td>\n",
       "      <td>4.580000</td>\n",
       "      <td>4.58</td>\n",
       "      <td>4.58</td>\n",
       "    </tr>\n",
       "    <tr>\n",
       "      <td>Zhisrisu83</td>\n",
       "      <td>2</td>\n",
       "      <td>3.945000</td>\n",
       "      <td>3.54</td>\n",
       "      <td>4.35</td>\n",
       "    </tr>\n",
       "    <tr>\n",
       "      <td>Zontibe81</td>\n",
       "      <td>3</td>\n",
       "      <td>2.676667</td>\n",
       "      <td>1.76</td>\n",
       "      <td>3.79</td>\n",
       "    </tr>\n",
       "  </tbody>\n",
       "</table>\n",
       "<p>576 rows × 4 columns</p>\n",
       "</div>"
      ],
      "text/plain": [
       "               count      mean   min   max\n",
       "SN                                        \n",
       "Adairialis76       1  2.280000  2.28  2.28\n",
       "Adastirin33        1  4.480000  4.48  4.48\n",
       "Aeda94             1  4.910000  4.91  4.91\n",
       "Aela59             1  4.320000  4.32  4.32\n",
       "Aelaria33          1  1.790000  1.79  1.79\n",
       "...              ...       ...   ...   ...\n",
       "Yathecal82         3  2.073333  1.87  2.42\n",
       "Yathedeu43         2  3.010000  2.27  3.75\n",
       "Yoishirrala98      1  4.580000  4.58  4.58\n",
       "Zhisrisu83         2  3.945000  3.54  4.35\n",
       "Zontibe81          3  2.676667  1.76  3.79\n",
       "\n",
       "[576 rows x 4 columns]"
      ]
     },
     "execution_count": 255,
     "metadata": {},
     "output_type": "execute_result"
    }
   ],
   "source": [
    "person_price = purchase_data.groupby(\"SN\").Price.agg([\"count\", \"mean\", \"min\", \"max\"])\n",
    "sorted(person_price)\n",
    "person_price"
   ]
  },
  {
   "cell_type": "code",
   "execution_count": null,
   "metadata": {},
   "outputs": [],
   "source": []
  },
  {
   "cell_type": "code",
   "execution_count": 256,
   "metadata": {},
   "outputs": [
    {
     "data": {
      "text/plain": [
       "array(['Lisim78', 'Lisovynya38', 'Ithergue48', 'Chamassasya86',\n",
       "       'Iskosia90', 'Yalae81', 'Itheria73', 'Iskjaskst81', 'Undjask33',\n",
       "       'Chanosian48', 'Inguron55', 'Haisrisuir60', 'Saelaephos52',\n",
       "       'Assjaskan73', 'Saesrideu94', 'Lisassa64', 'Lisirra25',\n",
       "       'Zontibe81', 'Reunasu60', 'Chamalo71', 'Iathenudil29',\n",
       "       'Phiarithdeu40', 'Siarithria38', 'Eyrian71', 'Siala43',\n",
       "       'Lisirra87', 'Lirtossa84', 'Eusri44', 'Aela59', 'Tyida79',\n",
       "       'Idai61', 'Farusrian86', 'Aeralria27', 'Haillyrgue51', 'Sondim73',\n",
       "       'Jeyciman68', 'Idaisuir85', 'Seuthep89', 'Reulae52',\n",
       "       'Sondilsaya62', 'Aerithriaphos45', 'Assosia88', 'Aidaillodeu39',\n",
       "       'Aelly27', 'Tyeosri53', 'Haerith37', 'Yasrisu92', 'Chanuchi25',\n",
       "       'Asur96', 'Iaralrgue74', 'Chanosia34', 'Aelin32', 'Ilosianya35',\n",
       "       'Zhisrisu83', 'Phaelap26', 'Raesty92', 'Palyon91', 'Tyisur83',\n",
       "       'Yaliru88', 'Yadanu52', 'Jiskimya77', 'Yadaphos40', 'Alo38',\n",
       "       'Phaena87', 'Chamirraya83', 'Chanastsda67', 'Indonmol95',\n",
       "       'Jiskossa61', 'Pheodai94', 'Hari50', 'Marilsa69', 'Assistasda42',\n",
       "       'Lisosia93', 'Philodil43', 'Mindadaran26', 'Lirtosia63',\n",
       "       'Assjaskan56', 'Irithlis29', 'Heudai45', 'Haerithp41', 'Aina42',\n",
       "       'Jiskjask60', 'Umolrian85', 'Qarirwen82', 'Laedallo55',\n",
       "       'Eoralrap26', 'Undosian34', 'Chadolyla44', 'Chadistaya75',\n",
       "       'Yathedeu43', 'Aina43', 'Ilassast39', 'Lisassala98', 'Aiduecal76',\n",
       "       'Chadossa89', 'Pheodaisun84', 'Heollyriap59', 'Maropast28',\n",
       "       'Frichim77', 'Thryallym62', 'Eulanurin88', 'Lassjaskan73',\n",
       "       'Tyaerith73', 'Sondadarya58', 'Hirirap39', 'Ririp86', 'Sundim98',\n",
       "       'Iskichinya81', 'Phyali88', 'Undirrala66', 'Nitherian58',\n",
       "       'Lassilsala30', 'Frichaststa61', 'Frichosia58', 'Ilosia37',\n",
       "       'Lisista27', 'Seudaillorap38', 'Aesty53', 'Yathecal82',\n",
       "       'Lisossanya98', 'Iral74', 'Lisast87', 'Maridisya31', 'Jiskassa76',\n",
       "       'Ethriel85', 'Iskirra45', 'Iri67', 'Rarallo90', 'Lisasi93',\n",
       "       'Adastirin33', 'Eyista89', 'Ili43', 'Chamirra53', 'Hailaphos89',\n",
       "       'Iskadarya95', 'Qilatista90', 'Inasti31', 'Marilsanya48',\n",
       "       'Marjask87', 'Chanjaskan89', 'Hyaduesu61', 'Aillyrin83',\n",
       "       'Marast30', 'Sundadar27', 'Tyaelorap29', 'Lirtimst73',\n",
       "       'Styaduen40', 'Sidap51', 'Chanastst38', 'Lirtassa52', 'Sondim68',\n",
       "       'Aeral97', 'Heosurnuru52', 'Lisopela58', 'Caesrinusuir82',\n",
       "       'Tyirinu79', 'Fironon91', 'Lassjask63', 'Indcil77', 'Chamimla73',\n",
       "       'Syathe73', 'Baelollodeu94', 'Mindista32', 'Saena74',\n",
       "       'Marirrasta50', 'Lamil79', 'Aenarap34', 'Aisur51', 'Thrientossa55',\n",
       "       'Chadista79', 'Tyeurith29', 'Malunil62', 'Hiasri33', 'Lisadar44',\n",
       "       'Frichjask31', 'Lisjaskya84', 'Ristydru66', 'Frichast28',\n",
       "       'Minduri31', 'Maradaran90', 'Mindetosya30', 'Ialallo29',\n",
       "       'Pheusrical25', 'Chanosia60', 'Phistym51', 'Aelollo59',\n",
       "       'Chamimla85', 'Haisurra41', 'Sondastsda82', 'Qilanrion65',\n",
       "       'Eulasuir89', 'Eosrirgue62', 'Shaidanu32', 'Lirtastan49',\n",
       "       'Iaralsuir44', 'Tyeudariasuir90', 'Cosadar58', 'Aelastirin39',\n",
       "       'Aidai53', 'Jiskjask85', 'Ealrion88', 'Chamjask73', 'Tyaenasti87',\n",
       "       'Alim85', 'Haeladil46', 'Jiskirran77', 'Undosia27', 'Peorith44',\n",
       "       'Yarithsurgue62', 'Taeduenu92', 'Rairin89', 'Aerithriaphos46',\n",
       "       'Idairin51', 'Lisista54', 'Eodailis27', 'Lirtastsda29',\n",
       "       'Undilsan50', 'Eodaisu60', 'Quaranmol58', 'Lirtossa60',\n",
       "       'Lirtilsa71', 'Isursuir31', 'Sundirrala66', 'Saerallora71',\n",
       "       'Iasur80', 'Tyaelo67', 'Quanunwen42', 'Yasur35', 'Assehoan67',\n",
       "       'Haellysu29', 'Saida58', 'Chamadar79', 'Aeral43', 'Lirtirra37',\n",
       "       'Tyidaim51', 'Lassassast73', 'Assassasta79', 'Heollyra92',\n",
       "       'Anallorgue57', 'Aerithllora36', 'Smaistysu35', 'Ennalmol65',\n",
       "       'Yarithrgue83', 'Yana46', 'Sondimla25', 'Aidai61', 'Wailin72',\n",
       "       'Firan91', 'Alaesu91', 'Aellynun67', 'Rilaera56', 'Eulaestira36',\n",
       "       'Marim28', 'Idastidru52', 'Ilirrasda54', 'Alaephos75',\n",
       "       'Syalollorap93', 'Minduli80', 'Chanastya70', 'Frichadaran88',\n",
       "       'Siallylis44', 'Aeri84', 'Iasursti71', 'Mindilsa34', 'Chamastya76',\n",
       "       'Undirra73', 'Aestysu37', 'Chadadarla74', 'Strithenu87',\n",
       "       'Iasrira89', 'Ialidru40', 'Tyalaesu89', 'Tyidainu31', 'Lirtilsa72',\n",
       "       'Undjaskla97', 'Saedaiphos46', 'Aerithnucal56', 'Lisossa46',\n",
       "       'Layjask75', 'Lisista63', 'Ceoral34', 'Hilaerin92',\n",
       "       'Chadilsasta32', 'Undassa89', 'Iduenu77', 'Lisosia66',\n",
       "       'Undimsya85', 'Phaedue89', 'Yadacal26', 'Lisossa25', 'Ilmol66',\n",
       "       'Yastyriaphos75', 'Hiasurria41', 'Palatyon26', 'Qilalista41',\n",
       "       'Hada39', 'Chamilsala65', 'Rairith81', 'Ilarin91', 'Ryanara76',\n",
       "       'Undista85', 'Tyeoralru41', 'Pheosrinudeu70', 'Heuli25',\n",
       "       'Pheutherin27', 'Chadirra90', 'Ali84', 'Frichjaskan98', 'Malil90',\n",
       "       'Yarithllodeu72', 'Tyaedainu44', 'Ethron58', 'Eusurdeu49',\n",
       "       'Saistyphos30', 'Saisrilis27', 'Hallysucal81', 'Ilimya66',\n",
       "       'Raysistast71', 'Haedairiadru51', 'Tyananurgue44', 'Risty84',\n",
       "       'Aerillorin70', 'Phistyn52', 'Yalo85', 'Chamirrasya33', 'Hiral75',\n",
       "       'Isursti83', 'Bartassaya73', 'Aeda94', 'Quinarap53', 'Asur53',\n",
       "       'Alarap40', 'Sida61', 'Hiarideu73', 'Lassassasda30', 'Ennoncil86',\n",
       "       'Siralsudeu54', 'Eusri26', 'Ardcil81', 'Marilsasya33', 'Lirtim36',\n",
       "       'Heunadil74', 'Frichadar89', 'Aesurstilis64', 'Idaidil28',\n",
       "       'Lisotesta51', 'Lisico81', 'Lisiriya82', 'Siana77', 'Marokian45',\n",
       "       'Sausosia74', 'Assesi91', 'Eusri70', 'Aisurria69', 'Iarilis73',\n",
       "       'Raisty38', 'Ilista82', 'Leyirra83', 'Aiduesu86', 'Frichynde86',\n",
       "       'Hisridru55', 'Chamossa77', 'Irillo49', 'Lirtastsya71',\n",
       "       'Frichosiala98', 'Qilunan34', 'Quarrion42', 'Aisurdru79',\n",
       "       'Hiaral50', 'Iarallo65', 'Sondassasya91', 'Chanossast57',\n",
       "       'Chanjask65', 'Ethralista69', 'Sondistanya61', 'Eudanu32',\n",
       "       'Euthe35', 'Lassimla92', 'Lisossala30', 'Eulae84', 'Chamadarnya73',\n",
       "       'Eolan54', 'Assistasda90', 'Ennrian78', 'Undirrasta89',\n",
       "       'Rianistast50', 'Undare39', 'Adairialis76', 'Aesur96',\n",
       "       'Tyialisudeu65', 'Arirgue63', 'Sundadarla27', 'Eyircil84', 'Ina92',\n",
       "       'Lirtistanya48', 'Marassa62', 'Mindossa76', 'Salilis27',\n",
       "       'Sondossa69', 'Sundjask71', 'Errian63', 'Eurithphos97',\n",
       "       'Raillydeu47', 'Malon70', 'Jiskimsda56', 'Marughi89', 'Ingatcil75',\n",
       "       'Chanirrasta87', 'Alaesu77', 'Ermol76', 'Tyeuduen32', 'Firon67',\n",
       "       'Iadueria43', 'Pheulidil31', 'Eodairu79', 'Frichocesta66',\n",
       "       'Thourdirra92', 'Chanastnya43', 'Iskim96', 'Eulolis41',\n",
       "       'Sastydeu50', 'Ilaesudil92', 'Yasur85', 'Aidain51',\n",
       "       'Aerithnuphos61', 'Yalostiphos68', 'Meosridil82', 'Aillyriadru65',\n",
       "       'Sally64', 'Lisim51', 'Isurria36', 'Silaera56', 'Leetirraya83',\n",
       "       'Lirtirra81', 'Eryon48', 'Iana95', 'Sondassan80', 'Chanadar44',\n",
       "       'Eosurdru76', 'Shidai42', 'Aesri53', 'Syally44', 'Jiskadarst60',\n",
       "       'Sondadar26', 'Malarrian73', 'Maluncil97', 'Ilunyon70', 'Yadam35',\n",
       "       'Dyally87', 'Pheosurllorin41', 'Frichaya88', 'Lassadarsda57',\n",
       "       'Marynde90', 'Isri34', 'Assastnya25', 'Ardonmol96',\n",
       "       'Lassirrasda85', 'Chadossa56', 'Poshilsa82', 'Yoishirrala98',\n",
       "       'Sundista37', 'Ilassa51', 'Filurarn35', 'Phaestycal84', 'Irilis75',\n",
       "       'Aeralstical35', 'Chanirrala39', 'Chanirra79', 'Assirra56',\n",
       "       'Seolollo93', 'Iathem87', 'Iasurriacal29', 'Lisast98', 'Filrion59',\n",
       "       'Halaecal66', 'Iskosian40', 'Ilastilis78', 'Seosrim97',\n",
       "       'Farrian71', 'Rithe53', 'Frichossala54', 'Chamjaskya75',\n",
       "       'Quanrion96', 'Tyaelaelis94', 'Quanenrian83', 'Chanirra64',\n",
       "       'Yadaisuir65', 'Syathecal44', 'Arin32', 'Aelaria33', 'Assassa81',\n",
       "       'Filrion83', 'Eoral49', 'Airi27', 'Eurisuru25', 'Liawista80',\n",
       "       'Lisirra58', 'Chamadarsda63', 'Haestyphos66', 'Phaedasurap84',\n",
       "       'Mindimnya67', 'Chadjask85', 'Eustyria89', 'Iskim66', 'Chamast86',\n",
       "       'Lirtassan78', 'Ethrasyon38', 'Quilassa66', 'Lisassasda39',\n",
       "       'Mindilsa60', 'Lalossa38', 'Chamistast30', 'Hariphos58',\n",
       "       'Assilsan72', 'Inasuir29', 'Chanilsasda38', 'Mindesi74',\n",
       "       'Ililsan66', 'Idacal95', 'Aeral68', 'Tyarithn67', 'Asty82',\n",
       "       'Yalaeria91', 'Chadjask77', 'Ealiril69', 'Quaecjask96',\n",
       "       'Firatan58', 'Yarolwen77', 'Tyaelistidru84', 'Yarithrin84',\n",
       "       'Tyaelly53', 'Phiristi62', 'Ililsasya43', 'Aithelis62',\n",
       "       'Undotesta33', 'Aelidru27', 'Chanossanya44', 'Maradarnya40',\n",
       "       'Lisilsa62', 'Saena89', 'Chanilsast61', 'Sundassa93', 'Aidai73',\n",
       "       'Indirrian56', 'Lisassasta50', 'Iduelis31', 'Chanosiaya39',\n",
       "       'Assylla81', 'Aidaira26', 'Eudanu84', 'Chamiman85', 'Tyialisti80',\n",
       "       'Marundi65', 'Eusur90', 'Mindirranya33', 'Phiallylis33', 'Isty55',\n",
       "       'Frichilsa31', 'Chanista95', 'Aellyria80', 'Rastynusuir31',\n",
       "       'Iljask75', 'Lisjaskan36', 'Mindjasksya61', 'Frichirranya75',\n",
       "       'Ilast79', 'Eratiel90', 'Assim27', 'Irith83', 'Ilosian36',\n",
       "       'Iskossasda43', 'Hala31', 'Jiskjask80', 'Aethedru70', 'Yathecal72',\n",
       "       'Sisur91'], dtype=object)"
      ]
     },
     "execution_count": 256,
     "metadata": {},
     "output_type": "execute_result"
    }
   ],
   "source": [
    "sn_name = purchase_data_df[\"SN\"].unique()\n",
    "sn_name"
   ]
  },
  {
   "cell_type": "code",
   "execution_count": 258,
   "metadata": {},
   "outputs": [
    {
     "data": {
      "text/plain": [
       "0       True\n",
       "1      False\n",
       "2      False\n",
       "3      False\n",
       "4      False\n",
       "       ...  \n",
       "775    False\n",
       "776    False\n",
       "777    False\n",
       "778    False\n",
       "779    False\n",
       "Name: SN, Length: 780, dtype: bool"
      ]
     },
     "execution_count": 258,
     "metadata": {},
     "output_type": "execute_result"
    }
   ],
   "source": [
    "\n",
    "sn_name = (purchase_data_df[\"SN\"] == \"Lisim78\")\n",
    "sn_name"
   ]
  },
  {
   "cell_type": "code",
   "execution_count": 259,
   "metadata": {},
   "outputs": [
    {
     "data": {
      "text/plain": [
       "count    3.00\n",
       "mean     3.34\n",
       "min      1.75\n",
       "max      4.74\n",
       "Name: Price, dtype: float64"
      ]
     },
     "execution_count": 259,
     "metadata": {},
     "output_type": "execute_result"
    }
   ],
   "source": [
    "purchase_data_df[sn_name].Price.agg([\"count\", \"mean\", \"min\", \"max\"])\n"
   ]
  },
  {
   "cell_type": "code",
   "execution_count": 260,
   "metadata": {},
   "outputs": [
    {
     "data": {
      "text/plain": [
       "10.02"
      ]
     },
     "execution_count": 260,
     "metadata": {},
     "output_type": "execute_result"
    }
   ],
   "source": [
    "purchase_data_df.loc[sn_name, \"Price\"].sum()"
   ]
  },
  {
   "cell_type": "code",
   "execution_count": null,
   "metadata": {},
   "outputs": [],
   "source": []
  },
  {
   "cell_type": "code",
   "execution_count": 261,
   "metadata": {},
   "outputs": [
    {
     "name": "stdout",
     "output_type": "stream",
     "text": [
      "576\n",
      "['Lisim78' 'Lisovynya38' 'Ithergue48' 'Chamassasya86' 'Iskosia90'\n",
      " 'Yalae81' 'Itheria73' 'Iskjaskst81' 'Undjask33' 'Chanosian48' 'Inguron55'\n",
      " 'Haisrisuir60' 'Saelaephos52' 'Assjaskan73' 'Saesrideu94' 'Lisassa64'\n",
      " 'Lisirra25' 'Zontibe81' 'Reunasu60' 'Chamalo71' 'Iathenudil29'\n",
      " 'Phiarithdeu40' 'Siarithria38' 'Eyrian71' 'Siala43' 'Lisirra87'\n",
      " 'Lirtossa84' 'Eusri44' 'Aela59' 'Tyida79' 'Idai61' 'Farusrian86'\n",
      " 'Aeralria27' 'Haillyrgue51' 'Sondim73' 'Jeyciman68' 'Idaisuir85'\n",
      " 'Seuthep89' 'Reulae52' 'Sondilsaya62' 'Aerithriaphos45' 'Assosia88'\n",
      " 'Aidaillodeu39' 'Aelly27' 'Tyeosri53' 'Haerith37' 'Yasrisu92'\n",
      " 'Chanuchi25' 'Asur96' 'Iaralrgue74' 'Chanosia34' 'Aelin32' 'Ilosianya35'\n",
      " 'Zhisrisu83' 'Phaelap26' 'Raesty92' 'Palyon91' 'Tyisur83' 'Yaliru88'\n",
      " 'Yadanu52' 'Jiskimya77' 'Yadaphos40' 'Alo38' 'Phaena87' 'Chamirraya83'\n",
      " 'Chanastsda67' 'Indonmol95' 'Jiskossa61' 'Pheodai94' 'Hari50' 'Marilsa69'\n",
      " 'Assistasda42' 'Lisosia93' 'Philodil43' 'Mindadaran26' 'Lirtosia63'\n",
      " 'Assjaskan56' 'Irithlis29' 'Heudai45' 'Haerithp41' 'Aina42' 'Jiskjask60'\n",
      " 'Umolrian85' 'Qarirwen82' 'Laedallo55' 'Eoralrap26' 'Undosian34'\n",
      " 'Chadolyla44' 'Chadistaya75' 'Yathedeu43' 'Aina43' 'Ilassast39'\n",
      " 'Lisassala98' 'Aiduecal76' 'Chadossa89' 'Pheodaisun84' 'Heollyriap59'\n",
      " 'Maropast28' 'Frichim77' 'Thryallym62' 'Eulanurin88' 'Lassjaskan73'\n",
      " 'Tyaerith73' 'Sondadarya58' 'Hirirap39' 'Ririp86' 'Sundim98'\n",
      " 'Iskichinya81' 'Phyali88' 'Undirrala66' 'Nitherian58' 'Lassilsala30'\n",
      " 'Frichaststa61' 'Frichosia58' 'Ilosia37' 'Lisista27' 'Seudaillorap38'\n",
      " 'Aesty53' 'Yathecal82' 'Lisossanya98' 'Iral74' 'Lisast87' 'Maridisya31'\n",
      " 'Jiskassa76' 'Ethriel85' 'Iskirra45' 'Iri67' 'Rarallo90' 'Lisasi93'\n",
      " 'Adastirin33' 'Eyista89' 'Ili43' 'Chamirra53' 'Hailaphos89' 'Iskadarya95'\n",
      " 'Qilatista90' 'Inasti31' 'Marilsanya48' 'Marjask87' 'Chanjaskan89'\n",
      " 'Hyaduesu61' 'Aillyrin83' 'Marast30' 'Sundadar27' 'Tyaelorap29'\n",
      " 'Lirtimst73' 'Styaduen40' 'Sidap51' 'Chanastst38' 'Lirtassa52' 'Sondim68'\n",
      " 'Aeral97' 'Heosurnuru52' 'Lisopela58' 'Caesrinusuir82' 'Tyirinu79'\n",
      " 'Fironon91' 'Lassjask63' 'Indcil77' 'Chamimla73' 'Syathe73'\n",
      " 'Baelollodeu94' 'Mindista32' 'Saena74' 'Marirrasta50' 'Lamil79'\n",
      " 'Aenarap34' 'Aisur51' 'Thrientossa55' 'Chadista79' 'Tyeurith29'\n",
      " 'Malunil62' 'Hiasri33' 'Lisadar44' 'Frichjask31' 'Lisjaskya84'\n",
      " 'Ristydru66' 'Frichast28' 'Minduri31' 'Maradaran90' 'Mindetosya30'\n",
      " 'Ialallo29' 'Pheusrical25' 'Chanosia60' 'Phistym51' 'Aelollo59'\n",
      " 'Chamimla85' 'Haisurra41' 'Sondastsda82' 'Qilanrion65' 'Eulasuir89'\n",
      " 'Eosrirgue62' 'Shaidanu32' 'Lirtastan49' 'Iaralsuir44' 'Tyeudariasuir90'\n",
      " 'Cosadar58' 'Aelastirin39' 'Aidai53' 'Jiskjask85' 'Ealrion88'\n",
      " 'Chamjask73' 'Tyaenasti87' 'Alim85' 'Haeladil46' 'Jiskirran77'\n",
      " 'Undosia27' 'Peorith44' 'Yarithsurgue62' 'Taeduenu92' 'Rairin89'\n",
      " 'Aerithriaphos46' 'Idairin51' 'Lisista54' 'Eodailis27' 'Lirtastsda29'\n",
      " 'Undilsan50' 'Eodaisu60' 'Quaranmol58' 'Lirtossa60' 'Lirtilsa71'\n",
      " 'Isursuir31' 'Sundirrala66' 'Saerallora71' 'Iasur80' 'Tyaelo67'\n",
      " 'Quanunwen42' 'Yasur35' 'Assehoan67' 'Haellysu29' 'Saida58' 'Chamadar79'\n",
      " 'Aeral43' 'Lirtirra37' 'Tyidaim51' 'Lassassast73' 'Assassasta79'\n",
      " 'Heollyra92' 'Anallorgue57' 'Aerithllora36' 'Smaistysu35' 'Ennalmol65'\n",
      " 'Yarithrgue83' 'Yana46' 'Sondimla25' 'Aidai61' 'Wailin72' 'Firan91'\n",
      " 'Alaesu91' 'Aellynun67' 'Rilaera56' 'Eulaestira36' 'Marim28'\n",
      " 'Idastidru52' 'Ilirrasda54' 'Alaephos75' 'Syalollorap93' 'Minduli80'\n",
      " 'Chanastya70' 'Frichadaran88' 'Siallylis44' 'Aeri84' 'Iasursti71'\n",
      " 'Mindilsa34' 'Chamastya76' 'Undirra73' 'Aestysu37' 'Chadadarla74'\n",
      " 'Strithenu87' 'Iasrira89' 'Ialidru40' 'Tyalaesu89' 'Tyidainu31'\n",
      " 'Lirtilsa72' 'Undjaskla97' 'Saedaiphos46' 'Aerithnucal56' 'Lisossa46'\n",
      " 'Layjask75' 'Lisista63' 'Ceoral34' 'Hilaerin92' 'Chadilsasta32'\n",
      " 'Undassa89' 'Iduenu77' 'Lisosia66' 'Undimsya85' 'Phaedue89' 'Yadacal26'\n",
      " 'Lisossa25' 'Ilmol66' 'Yastyriaphos75' 'Hiasurria41' 'Palatyon26'\n",
      " 'Qilalista41' 'Hada39' 'Chamilsala65' 'Rairith81' 'Ilarin91' 'Ryanara76'\n",
      " 'Undista85' 'Tyeoralru41' 'Pheosrinudeu70' 'Heuli25' 'Pheutherin27'\n",
      " 'Chadirra90' 'Ali84' 'Frichjaskan98' 'Malil90' 'Yarithllodeu72'\n",
      " 'Tyaedainu44' 'Ethron58' 'Eusurdeu49' 'Saistyphos30' 'Saisrilis27'\n",
      " 'Hallysucal81' 'Ilimya66' 'Raysistast71' 'Haedairiadru51' 'Tyananurgue44'\n",
      " 'Risty84' 'Aerillorin70' 'Phistyn52' 'Yalo85' 'Chamirrasya33' 'Hiral75'\n",
      " 'Isursti83' 'Bartassaya73' 'Aeda94' 'Quinarap53' 'Asur53' 'Alarap40'\n",
      " 'Sida61' 'Hiarideu73' 'Lassassasda30' 'Ennoncil86' 'Siralsudeu54'\n",
      " 'Eusri26' 'Ardcil81' 'Marilsasya33' 'Lirtim36' 'Heunadil74' 'Frichadar89'\n",
      " 'Aesurstilis64' 'Idaidil28' 'Lisotesta51' 'Lisico81' 'Lisiriya82'\n",
      " 'Siana77' 'Marokian45' 'Sausosia74' 'Assesi91' 'Eusri70' 'Aisurria69'\n",
      " 'Iarilis73' 'Raisty38' 'Ilista82' 'Leyirra83' 'Aiduesu86' 'Frichynde86'\n",
      " 'Hisridru55' 'Chamossa77' 'Irillo49' 'Lirtastsya71' 'Frichosiala98'\n",
      " 'Qilunan34' 'Quarrion42' 'Aisurdru79' 'Hiaral50' 'Iarallo65'\n",
      " 'Sondassasya91' 'Chanossast57' 'Chanjask65' 'Ethralista69'\n",
      " 'Sondistanya61' 'Eudanu32' 'Euthe35' 'Lassimla92' 'Lisossala30' 'Eulae84'\n",
      " 'Chamadarnya73' 'Eolan54' 'Assistasda90' 'Ennrian78' 'Undirrasta89'\n",
      " 'Rianistast50' 'Undare39' 'Adairialis76' 'Aesur96' 'Tyialisudeu65'\n",
      " 'Arirgue63' 'Sundadarla27' 'Eyircil84' 'Ina92' 'Lirtistanya48'\n",
      " 'Marassa62' 'Mindossa76' 'Salilis27' 'Sondossa69' 'Sundjask71' 'Errian63'\n",
      " 'Eurithphos97' 'Raillydeu47' 'Malon70' 'Jiskimsda56' 'Marughi89'\n",
      " 'Ingatcil75' 'Chanirrasta87' 'Alaesu77' 'Ermol76' 'Tyeuduen32' 'Firon67'\n",
      " 'Iadueria43' 'Pheulidil31' 'Eodairu79' 'Frichocesta66' 'Thourdirra92'\n",
      " 'Chanastnya43' 'Iskim96' 'Eulolis41' 'Sastydeu50' 'Ilaesudil92' 'Yasur85'\n",
      " 'Aidain51' 'Aerithnuphos61' 'Yalostiphos68' 'Meosridil82' 'Aillyriadru65'\n",
      " 'Sally64' 'Lisim51' 'Isurria36' 'Silaera56' 'Leetirraya83' 'Lirtirra81'\n",
      " 'Eryon48' 'Iana95' 'Sondassan80' 'Chanadar44' 'Eosurdru76' 'Shidai42'\n",
      " 'Aesri53' 'Syally44' 'Jiskadarst60' 'Sondadar26' 'Malarrian73'\n",
      " 'Maluncil97' 'Ilunyon70' 'Yadam35' 'Dyally87' 'Pheosurllorin41'\n",
      " 'Frichaya88' 'Lassadarsda57' 'Marynde90' 'Isri34' 'Assastnya25'\n",
      " 'Ardonmol96' 'Lassirrasda85' 'Chadossa56' 'Poshilsa82' 'Yoishirrala98'\n",
      " 'Sundista37' 'Ilassa51' 'Filurarn35' 'Phaestycal84' 'Irilis75'\n",
      " 'Aeralstical35' 'Chanirrala39' 'Chanirra79' 'Assirra56' 'Seolollo93'\n",
      " 'Iathem87' 'Iasurriacal29' 'Lisast98' 'Filrion59' 'Halaecal66'\n",
      " 'Iskosian40' 'Ilastilis78' 'Seosrim97' 'Farrian71' 'Rithe53'\n",
      " 'Frichossala54' 'Chamjaskya75' 'Quanrion96' 'Tyaelaelis94' 'Quanenrian83'\n",
      " 'Chanirra64' 'Yadaisuir65' 'Syathecal44' 'Arin32' 'Aelaria33' 'Assassa81'\n",
      " 'Filrion83' 'Eoral49' 'Airi27' 'Eurisuru25' 'Liawista80' 'Lisirra58'\n",
      " 'Chamadarsda63' 'Haestyphos66' 'Phaedasurap84' 'Mindimnya67' 'Chadjask85'\n",
      " 'Eustyria89' 'Iskim66' 'Chamast86' 'Lirtassan78' 'Ethrasyon38'\n",
      " 'Quilassa66' 'Lisassasda39' 'Mindilsa60' 'Lalossa38' 'Chamistast30'\n",
      " 'Hariphos58' 'Assilsan72' 'Inasuir29' 'Chanilsasda38' 'Mindesi74'\n",
      " 'Ililsan66' 'Idacal95' 'Aeral68' 'Tyarithn67' 'Asty82' 'Yalaeria91'\n",
      " 'Chadjask77' 'Ealiril69' 'Quaecjask96' 'Firatan58' 'Yarolwen77'\n",
      " 'Tyaelistidru84' 'Yarithrin84' 'Tyaelly53' 'Phiristi62' 'Ililsasya43'\n",
      " 'Aithelis62' 'Undotesta33' 'Aelidru27' 'Chanossanya44' 'Maradarnya40'\n",
      " 'Lisilsa62' 'Saena89' 'Chanilsast61' 'Sundassa93' 'Aidai73' 'Indirrian56'\n",
      " 'Lisassasta50' 'Iduelis31' 'Chanosiaya39' 'Assylla81' 'Aidaira26'\n",
      " 'Eudanu84' 'Chamiman85' 'Tyialisti80' 'Marundi65' 'Eusur90'\n",
      " 'Mindirranya33' 'Phiallylis33' 'Isty55' 'Frichilsa31' 'Chanista95'\n",
      " 'Aellyria80' 'Rastynusuir31' 'Iljask75' 'Lisjaskan36' 'Mindjasksya61'\n",
      " 'Frichirranya75' 'Ilast79' 'Eratiel90' 'Assim27' 'Irith83' 'Ilosian36'\n",
      " 'Iskossasda43' 'Hala31' 'Jiskjask80' 'Aethedru70' 'Yathecal72' 'Sisur91']\n"
     ]
    }
   ],
   "source": [
    "unique_sn_count = len(purchase_data[\"SN\"].unique())\n",
    "print (unique_sn_count)\n",
    "print (purchase_data[\"SN\"].unique())"
   ]
  },
  {
   "cell_type": "code",
   "execution_count": null,
   "metadata": {},
   "outputs": [],
   "source": []
  },
  {
   "cell_type": "code",
   "execution_count": 262,
   "metadata": {},
   "outputs": [
    {
     "data": {
      "text/plain": [
       "178    12\n",
       "82      9\n",
       "108     9\n",
       "145     9\n",
       "92      8\n",
       "       ..\n",
       "42      1\n",
       "118     1\n",
       "104     1\n",
       "27      1\n",
       "51      1\n",
       "Name: Item ID, Length: 183, dtype: int64"
      ]
     },
     "execution_count": 262,
     "metadata": {},
     "output_type": "execute_result"
    }
   ],
   "source": [
    "purchase_data_df[\"Item ID\"].value_counts()"
   ]
  },
  {
   "cell_type": "code",
   "execution_count": null,
   "metadata": {},
   "outputs": [],
   "source": []
  },
  {
   "cell_type": "code",
   "execution_count": 199,
   "metadata": {},
   "outputs": [
    {
     "data": {
      "text/plain": [
       "Index(['Purchase ID', 'SN', 'Age', 'Gender', 'Item ID', 'Item Name', 'Price'], dtype='object')"
      ]
     },
     "execution_count": 199,
     "metadata": {},
     "output_type": "execute_result"
    }
   ],
   "source": [
    "purchase_data_df.columns"
   ]
  },
  {
   "cell_type": "code",
   "execution_count": null,
   "metadata": {},
   "outputs": [],
   "source": []
  },
  {
   "cell_type": "code",
   "execution_count": 200,
   "metadata": {},
   "outputs": [
    {
     "data": {
      "text/plain": [
       "<pandas.core.groupby.generic.DataFrameGroupBy object at 0x000002E5D07DAB48>"
      ]
     },
     "execution_count": 200,
     "metadata": {},
     "output_type": "execute_result"
    }
   ],
   "source": [
    "purchase_data_df.groupby(\"Gender\")"
   ]
  },
  {
   "cell_type": "code",
   "execution_count": null,
   "metadata": {},
   "outputs": [],
   "source": []
  },
  {
   "cell_type": "code",
   "execution_count": 201,
   "metadata": {},
   "outputs": [
    {
     "data": {
      "text/plain": [
       "178    12\n",
       "82      9\n",
       "108     9\n",
       "145     9\n",
       "92      8\n",
       "       ..\n",
       "42      1\n",
       "118     1\n",
       "104     1\n",
       "27      1\n",
       "51      1\n",
       "Name: Item ID, Length: 183, dtype: int64"
      ]
     },
     "execution_count": 201,
     "metadata": {},
     "output_type": "execute_result"
    }
   ],
   "source": [
    "purchase_data_df[\"Item ID\"].value_counts()"
   ]
  },
  {
   "cell_type": "code",
   "execution_count": 202,
   "metadata": {},
   "outputs": [
    {
     "data": {
      "text/plain": [
       "2379.77"
      ]
     },
     "execution_count": 202,
     "metadata": {},
     "output_type": "execute_result"
    }
   ],
   "source": [
    "purchase_data_df[\"Price\"].sum()"
   ]
  },
  {
   "cell_type": "code",
   "execution_count": 203,
   "metadata": {},
   "outputs": [
    {
     "data": {
      "text/html": [
       "<div>\n",
       "<style scoped>\n",
       "    .dataframe tbody tr th:only-of-type {\n",
       "        vertical-align: middle;\n",
       "    }\n",
       "\n",
       "    .dataframe tbody tr th {\n",
       "        vertical-align: top;\n",
       "    }\n",
       "\n",
       "    .dataframe thead th {\n",
       "        text-align: right;\n",
       "    }\n",
       "</style>\n",
       "<table border=\"1\" class=\"dataframe\">\n",
       "  <thead>\n",
       "    <tr style=\"text-align: right;\">\n",
       "      <th></th>\n",
       "      <th>Item Name</th>\n",
       "      <th>Price</th>\n",
       "    </tr>\n",
       "  </thead>\n",
       "  <tbody>\n",
       "    <tr>\n",
       "      <td>0</td>\n",
       "      <td>Extraction, Quickblade Of Trembling Hands</td>\n",
       "      <td>3.53</td>\n",
       "    </tr>\n",
       "    <tr>\n",
       "      <td>1</td>\n",
       "      <td>Frenzied Scimitar</td>\n",
       "      <td>1.56</td>\n",
       "    </tr>\n",
       "    <tr>\n",
       "      <td>2</td>\n",
       "      <td>Final Critic</td>\n",
       "      <td>4.88</td>\n",
       "    </tr>\n",
       "    <tr>\n",
       "      <td>3</td>\n",
       "      <td>Blindscythe</td>\n",
       "      <td>3.27</td>\n",
       "    </tr>\n",
       "    <tr>\n",
       "      <td>4</td>\n",
       "      <td>Fury</td>\n",
       "      <td>1.44</td>\n",
       "    </tr>\n",
       "    <tr>\n",
       "      <td>...</td>\n",
       "      <td>...</td>\n",
       "      <td>...</td>\n",
       "    </tr>\n",
       "    <tr>\n",
       "      <td>775</td>\n",
       "      <td>Wolf</td>\n",
       "      <td>3.54</td>\n",
       "    </tr>\n",
       "    <tr>\n",
       "      <td>776</td>\n",
       "      <td>Exiled Doomblade</td>\n",
       "      <td>1.63</td>\n",
       "    </tr>\n",
       "    <tr>\n",
       "      <td>777</td>\n",
       "      <td>Celeste, Incarnation of the Corrupted</td>\n",
       "      <td>3.46</td>\n",
       "    </tr>\n",
       "    <tr>\n",
       "      <td>778</td>\n",
       "      <td>Final Critic</td>\n",
       "      <td>4.19</td>\n",
       "    </tr>\n",
       "    <tr>\n",
       "      <td>779</td>\n",
       "      <td>Dawn</td>\n",
       "      <td>4.60</td>\n",
       "    </tr>\n",
       "  </tbody>\n",
       "</table>\n",
       "<p>780 rows × 2 columns</p>\n",
       "</div>"
      ],
      "text/plain": [
       "                                     Item Name  Price\n",
       "0    Extraction, Quickblade Of Trembling Hands   3.53\n",
       "1                            Frenzied Scimitar   1.56\n",
       "2                                 Final Critic   4.88\n",
       "3                                  Blindscythe   3.27\n",
       "4                                         Fury   1.44\n",
       "..                                         ...    ...\n",
       "775                                       Wolf   3.54\n",
       "776                           Exiled Doomblade   1.63\n",
       "777      Celeste, Incarnation of the Corrupted   3.46\n",
       "778                               Final Critic   4.19\n",
       "779                                       Dawn   4.60\n",
       "\n",
       "[780 rows x 2 columns]"
      ]
     },
     "execution_count": 203,
     "metadata": {},
     "output_type": "execute_result"
    }
   ],
   "source": [
    "purchase_data_df.loc[0:780, \"Item Name\" : \"Price\"]"
   ]
  },
  {
   "cell_type": "code",
   "execution_count": 224,
   "metadata": {},
   "outputs": [
    {
     "data": {
      "text/plain": [
       "0      Extraction, Quickblade Of Trembling Hands\n",
       "1                              Frenzied Scimitar\n",
       "2                                   Final Critic\n",
       "3                                    Blindscythe\n",
       "4                                           Fury\n",
       "                         ...                    \n",
       "775                                         Wolf\n",
       "776                             Exiled Doomblade\n",
       "777        Celeste, Incarnation of the Corrupted\n",
       "778                                 Final Critic\n",
       "779                                         Dawn\n",
       "Name: Item Name, Length: 780, dtype: object"
      ]
     },
     "execution_count": 224,
     "metadata": {},
     "output_type": "execute_result"
    }
   ],
   "source": [
    "purchase_data_df[\"Item Name\"]"
   ]
  },
  {
   "cell_type": "code",
   "execution_count": 205,
   "metadata": {},
   "outputs": [
    {
     "name": "stdout",
     "output_type": "stream",
     "text": [
      "179\n",
      "['Extraction, Quickblade Of Trembling Hands' 'Frenzied Scimitar'\n",
      " 'Final Critic' 'Blindscythe' 'Fury' 'Dreamkiss'\n",
      " 'Interrogator, Blood Blade of the Queen' 'Abyssal Shard' 'Souleater'\n",
      " 'Ghastly Adamantite Protector' 'Singed Onyx Warscythe'\n",
      " 'Renewed Skeletal Katana' \"Bloodlord's Fetish\"\n",
      " 'Bone Crushing Silver Skewer' 'Deadline, Voice Of Subtlety'\n",
      " 'Second Chance' 'Devine' 'Nirvana' 'Blazefury, Protector of Delusions'\n",
      " 'Despair, Favor of Due Diligence' 'Sun Strike, Jaws of Twisted Visions'\n",
      " 'Warped Fetish' 'Severance' 'Persuasion'\n",
      " 'Oathbreaker, Last Hope of the Breaking Storm' 'Demise'\n",
      " 'Blood-Forged Skeletal Spine' 'Stormbringer, Dark Blade of Ending Misery'\n",
      " 'Shadow Strike, Glory of Ending Hope' 'Striker'\n",
      " 'Wolf, Promise of the Moonwalker' \"Faith's Scimitar\"\n",
      " 'Bonecarvin Battle Axe' 'Azurewrath' 'Vengeance Cleaver'\n",
      " 'Haunted Bronzed Bludgeon' 'Ritual Mace' 'Blade of the Grave'\n",
      " 'Thorn, Satchel of Dark Souls' \"Winter's Bite\"\n",
      " 'Thorn, Conqueror of the Corrupted' \"Reaper's Toll\" 'Avenger'\n",
      " 'Shadowsteel' 'Peacekeeper, Wit of Dark Magic' 'Suspension' 'Amnesia'\n",
      " 'Soul Infused Crystal' 'Wolf' 'Relentless Iron Skewer' 'Hero Cane'\n",
      " 'Arcane Gem' 'Dreamsong' 'Darkheart' 'Hailstorm Shadowsteel Scythe'\n",
      " 'Whistling Mithril Warblade' 'Foul Titanium Battle Axe' 'Retribution Axe'\n",
      " 'Rusty Skull' 'Riddle, Tribute of Ended Dreams' 'Chaos, Ender of the End'\n",
      " 'Storm-Weaver, Slayer of Inception' 'Venom Claymore'\n",
      " 'Emberling, Defender of Delusions' 'Netherbane' 'Dawn' 'Primitive Blade'\n",
      " 'Dawne' 'Curved Axe' 'Fate, Vengeance of Eternal Justice'\n",
      " 'Lazarus, Terror of the Earth' 'Lightning, Etcher of the King'\n",
      " 'Betrayal, Whisper of Grieving Widows' 'Exiled Doomblade'\n",
      " 'Undead Crusader' 'Downfall, Scalpel Of The Emperor' 'Sleepwalker'\n",
      " 'Eternal Cleaver' 'Expiration, Warscythe Of Lost Worlds' 'Malificent Bag'\n",
      " 'Mercy, Katana of Dismay' 'Orbit' 'Deathraze' 'Serenity'\n",
      " 'Heartstriker, Legacy of the Light' 'Glimmer, Ender of the Moon'\n",
      " 'Deluge, Edge of the West' 'Crucifer' 'Piece Maker'\n",
      " 'Brutality Ivory Warmace' \"Freak's Bite, Favor of Holy Might\"\n",
      " 'Yearning Crusher' 'Agatha' 'Fiery Glass Crusader' 'Splinter' 'Verdict'\n",
      " 'Warped Iron Scimitar' 'Darkheart, Butcher of the Champion'\n",
      " 'Purgatory, Gem of Regret' 'Woeful Adamantite Claymore'\n",
      " 'Hopeless Ebon Dualblade' \"Warmonger, Gift of Suffering's End\"\n",
      " \"Misery's End\" 'Phantomlight' 'Conqueror Adamantite Mace'\n",
      " \"Dragon's Greatsword\" 'Stormcaller' 'Spada, Etcher of Hatred'\n",
      " \"Twilight's Carver\" 'Putrid Fan' 'Blood Infused Guardian'\n",
      " 'Singed Scalpel' 'Warped Diamond Crusader' 'Endbringer' 'Feral Katana'\n",
      " 'Orenmir' 'Piety, Guardian of Riddles' 'Brimstone' 'Stormfury Mace'\n",
      " 'Frenzy, Defender of the Harvest' \"Solitude's Reaver\" 'Mercenary Sabre'\n",
      " 'Yearning Mageblade' 'Tranquility, Razor of Black Magic'\n",
      " 'Oathbreaker, Spellblade of Trials' 'Aetherius, Boon of the Blessed'\n",
      " 'Righteous Might' 'Victor Iron Spikes' 'Swan Song, Gouger Of Terror'\n",
      " 'Thunderfury Scimitar' 'Splitter, Foe Of Subtlety' 'Restored Bauble'\n",
      " 'The Decapitator' 'Pursuit, Cudgel of Necromancy' 'Lifebender'\n",
      " 'Flux, Destroyer of Due Diligence' 'Mourning Blade' 'Toothpick'\n",
      " \"Hope's End\" 'Torchlight, Bond of Storms' 'Thirsty Iron Reaver'\n",
      " 'Stormfury Longsword' 'Malice, Legacy of the Queen'\n",
      " 'War-Forged Gold Deflector' 'Blazeguard, Reach of Eternity'\n",
      " 'Soul-Forged Steel Shortsword' 'Hellreaver, Heirloom of Inception'\n",
      " 'Heartless Bone Dualblade' 'Scalpel' 'Hatred' 'Crying Steel Sickle'\n",
      " 'The Void, Vengeance of Dark Magic' 'Celeste'\n",
      " 'Ghost Reaver, Longsword of Magic'\n",
      " 'Celeste, Incarnation of the Corrupted' 'Glinting Glass Edge'\n",
      " 'The Oculus, Token of Lost Worlds' 'Massacre' 'Alpha, Oath of Zeal'\n",
      " 'Possessed Core' 'Foul Edge' 'Trickster' 'Fusion Pummel'\n",
      " 'Stormfury Lantern' 'Apocalyptic Battlescythe' 'Unholy Wand'\n",
      " 'Unending Tyranny' 'Ragnarok' 'Rage, Legacy of the Lone Victor'\n",
      " 'Worldbreaker' 'Exiled Mithril Longsword' 'Spectral Diamond Doomblade'\n",
      " 'Vindictive Glass Edge' 'Heartseeker, Reaver of Souls'\n",
      " 'Alpha, Reach of Ending Hope' 'Alpha' 'Betrayer'\n",
      " 'Winterthorn, Defender of Shifting Worlds' \"Gladiator's Glaive\"]\n"
     ]
    }
   ],
   "source": [
    "unique_item_count = len(purchase_data[\"Item Name\"].unique())\n",
    "print (unique_item_count)\n",
    "print (purchase_data[\"Item Name\"].unique())"
   ]
  },
  {
   "cell_type": "code",
   "execution_count": 219,
   "metadata": {},
   "outputs": [
    {
     "name": "stdout",
     "output_type": "stream",
     "text": [
      "count             780\n",
      "max         Zontibe81\n",
      "min      Adairialis76\n",
      "Name: SN, dtype: object\n"
     ]
    }
   ],
   "source": [
    "item_name_price = purchase_data[[\"SN\", \"Item Name\", \"Price\"]].SN.agg([\"count\", \"mean\", \"max\", \"min\"])\n",
    "print(item_name_price)"
   ]
  },
  {
   "cell_type": "code",
   "execution_count": 215,
   "metadata": {},
   "outputs": [
    {
     "name": "stdout",
     "output_type": "stream",
     "text": [
      "3.0509871794871795\n"
     ]
    }
   ],
   "source": [
    "item_name_price_average = statistics.mean(purchase_data[\"Price\"])\n",
    "print(item_name_price_average)"
   ]
  }
 ],
 "metadata": {
  "kernelspec": {
   "display_name": "Python 3",
   "language": "python",
   "name": "python3"
  },
  "language_info": {
   "codemirror_mode": {
    "name": "ipython",
    "version": 3
   },
   "file_extension": ".py",
   "mimetype": "text/x-python",
   "name": "python",
   "nbconvert_exporter": "python",
   "pygments_lexer": "ipython3",
   "version": "3.7.4"
  }
 },
 "nbformat": 4,
 "nbformat_minor": 2
}
